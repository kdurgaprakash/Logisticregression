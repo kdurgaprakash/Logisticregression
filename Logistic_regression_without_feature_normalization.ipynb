{
 "cells": [
  {
   "cell_type": "code",
   "execution_count": 81,
   "id": "c3f57c02",
   "metadata": {},
   "outputs": [],
   "source": [
    "# Import dependancies\n",
    "import pandas as pd\n",
    "import numpy as np\n",
    "import copy\n",
    "import matplotlib.pyplot as plt\n",
    "from sklearn.preprocessing import LabelEncoder\n",
    "from sklearn.model_selection import train_test_split\n",
    "from sklearn.preprocessing import StandardScaler\n",
    "from sklearn import preprocessing\n",
    "from scipy.io import arff"
   ]
  },
  {
   "cell_type": "code",
   "execution_count": 82,
   "id": "e5a025c6",
   "metadata": {},
   "outputs": [],
   "source": [
    "#Preprocessing and loading data by filling in empty spaces\n",
    "file = arff.loadarff('chronic_kidney_disease_full.arff')\n",
    "df = pd.DataFrame(file[0])\n",
    "\n",
    "for i in df.columns:\n",
    "        if df[i].dtype !=  'float64':\n",
    "            lab = LabelEncoder()\n",
    "            lab.fit(df[i])\n",
    "            df[i] = lab.transform(df[i])"
   ]
  },
  {
   "cell_type": "code",
   "execution_count": 83,
   "id": "788a1e9b",
   "metadata": {},
   "outputs": [],
   "source": [
    "#Fill empty values of dataset\n",
    "df.fillna(method = 'ffill', inplace = True)\n",
    "df.fillna(method = 'bfill', inplace = True)\n",
    "\n",
    "\n",
    "X = df.iloc[:, :-1].values\n",
    "Y = df['class'].values"
   ]
  },
  {
   "cell_type": "code",
   "execution_count": 84,
   "id": "d17fdbd9",
   "metadata": {},
   "outputs": [],
   "source": [
    "# Dividing the dataset for training and testing such that 20 % is used for testing\n",
    "x_train, x_test, y_train, y_test = train_test_split(X, Y, test_size=0.2)\n",
    "\n",
    "y_train = y_train.reshape(y_train.shape[0],1)\n",
    "y_test = y_test.reshape(y_test.shape[0],1)"
   ]
  },
  {
   "cell_type": "code",
   "execution_count": 85,
   "id": "18bdfc3b",
   "metadata": {},
   "outputs": [],
   "source": [
    "#Initialize parameters\n",
    "def parameters(siz):\n",
    "    w = np.random.rand(siz,1)\n",
    "    b = 0.0\n",
    "    return w, b"
   ]
  },
  {
   "cell_type": "code",
   "execution_count": 86,
   "id": "dc821ef8",
   "metadata": {},
   "outputs": [],
   "source": [
    "#Define sigmoid function\n",
    "def logistic(z):\n",
    "    return 1 / (1 + np.exp(-z))"
   ]
  },
  {
   "cell_type": "code",
   "execution_count": 87,
   "id": "e93cfe6a",
   "metadata": {},
   "outputs": [],
   "source": [
    "def propagation(w,b,x,y,laba):\n",
    "    m = x.shape[0]\n",
    "    A = logistic(np.dot(x,w)+b)\n",
    "    J = (np.sum((np.dot(y,np.log(A).T))+(np.dot((1-y),np.log(1-A).T)))/-m)+(laba*(np.sum(np.square(w))/2*m))\n",
    "    dw = (np.dot(x.T,(A-y))/m)\n",
    "    db = (np.sum(A-y))/m\n",
    "    J = np.squeeze(np.array(J))\n",
    "    return J,dw,db\n"
   ]
  },
  {
   "cell_type": "code",
   "execution_count": 88,
   "id": "82a5ef93",
   "metadata": {},
   "outputs": [],
   "source": [
    "def model(x_train,y_train,x_test,y_test,num_iter,alpha,laba):\n",
    "    w,b = parameters(x_train.shape[1])\n",
    "    w,b,dw,db,cost = optimization(w,b,x_train,y_train,num_iter,alpha,laba)\n",
    "    y_prediction_train = find(w,b,x_train)\n",
    "    y_prediction_test = find(w,b,x_test)\n",
    "    return y_prediction_test,y_prediction_train"
   ]
  },
  {
   "cell_type": "code",
   "execution_count": 89,
   "id": "266ad1a8",
   "metadata": {},
   "outputs": [],
   "source": [
    "\n",
    "def optimization(w, b, x, y, num_iter, alpha, laba):\n",
    "    m = x.shape[0]\n",
    "    b = copy.deepcopy(b)\n",
    "    w = copy.deepcopy(w)\n",
    "    cost = []\n",
    "\n",
    "    for i in range(num_iter):\n",
    "        J, dw, db = propagation(w, b, x, y, laba);\n",
    "        b = b - (alpha * db) - ((laba * b) / m)\n",
    "        w = w - (alpha * dw) - ((laba * w) / m)\n",
    "        cost.append(J)\n",
    "    return w, b, dw, db, cost\n",
    "\n"
   ]
  },
  {
   "cell_type": "code",
   "execution_count": 90,
   "id": "e3617207",
   "metadata": {},
   "outputs": [],
   "source": [
    "def fmeasure(pred, y_test):\n",
    "    TP, TN, FP, FN = 0,0,0,0\n",
    "\n",
    "    for i in range(y_test.shape[0]):\n",
    "        if pred[i] == 0:\n",
    "            if pred[i] == y_test[i]:\n",
    "                TN = TN + 1\n",
    "            else:\n",
    "                FN = FN + 1\n",
    "        else:\n",
    "            if pred[i] == y_test[i]:\n",
    "                TP = TP + 1\n",
    "            else:\n",
    "                FP = FP + 1\n",
    "\n",
    "    rec = TP / (TP + FN)\n",
    "    pre = TP / (TP + FP)\n",
    "\n",
    "    fm = (2 * pre * rec) / (pre + rec)\n",
    "    return fm"
   ]
  },
  {
   "cell_type": "code",
   "execution_count": 91,
   "id": "4bcc4b38",
   "metadata": {},
   "outputs": [],
   "source": [
    "#Function to predict label\n",
    "def find(w, b, x):\n",
    "    m = x.shape[0]\n",
    "    y_predict = np.zeros((m, 1))\n",
    "\n",
    "    A = logistic(np.dot(x, w) + b)\n",
    "    for i in range(A.shape[0]):\n",
    "        if A[i] > 0.5:\n",
    "            y_predict[i] = 1\n",
    "        else:\n",
    "            y_predict[i] = 0\n",
    "    return y_predict"
   ]
  },
  {
   "cell_type": "code",
   "execution_count": 92,
   "id": "302380b8",
   "metadata": {},
   "outputs": [
    {
     "name": "stderr",
     "output_type": "stream",
     "text": [
      "<ipython-input-87-362f290b788a>:4: RuntimeWarning: divide by zero encountered in log\n",
      "  J = (np.sum((np.dot(y,np.log(A).T))+(np.dot((1-y),np.log(1-A).T)))/-m)+(laba*(np.sum(np.square(w))/2*m))\n",
      "<ipython-input-86-982ea68760ec>:3: RuntimeWarning: overflow encountered in exp\n",
      "  return 1 / (1 + np.exp(-z))\n"
     ]
    },
    {
     "data": {
      "image/png": "[encoded data removed]",
      "text/plain": [
       "<Figure size 432x288 with 1 Axes>"
      ]
     },
     "metadata": {
      "needs_background": "light"
     },
     "output_type": "display_data"
    }
   ],
   "source": [
    "#Iterating model for lambda in the range from -2 to 4 and step 0.2\n",
    "test_set = []\n",
    "training_set = []\n",
    "lmda = [-2, -1.8, -1.6, -1.4, -1.2, -1, -0.8, -0.6, -0.4, -0.2, 0, 0.2, 0.4, 0.6, 0.8, 1, 1.2, 1.4, 1.6, 1.8, 2, 2.2, 2.4, 2.6, 2.8, 3, 3.2, 3.4, 3.6, 3.8, 4 ]\n",
    "\n",
    "for i in lmda[:11]:\n",
    "    y_test_pred,y_train_pred = model(x_train,y_train,x_test,y_test,num_iter=10000,alpha=0.008, laba =i)\n",
    "    test_set.append(fmeasure(y_test_pred,y_test))\n",
    "    training_set.append(fmeasure(y_train_pred,y_train))\n",
    "\n",
    "\n",
    "\n",
    "plt.plot(lmda[:11] , test_set , label='Test_set', color = 'green')\n",
    "plt.plot(lmda[:11] , training_set , label='Training_set', color = 'red')\n",
    "#Assign labels for f-measure plots\n",
    "plt.xlabel('Lambda_parameter')\n",
    "plt.ylabel('f_measure')\n",
    "\n",
    "plt.legend()\n",
    "plt.show()\n"
   ]
  }
 ],
 "metadata": {
  "kernelspec": {
   "display_name": "Python 3",
   "language": "python",
   "name": "python3"
  },
  "language_info": {
   "codemirror_mode": {
    "name": "ipython",
    "version": 3
   },
   "file_extension": ".py",
   "mimetype": "text/x-python",
   "name": "python",
   "nbconvert_exporter": "python",
   "pygments_lexer": "ipython3",
   "version": "3.8.8"
  }
 },
 "nbformat": 4,
 "nbformat_minor": 5
}
